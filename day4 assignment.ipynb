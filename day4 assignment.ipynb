{
 "cells": [
  {
   "cell_type": "code",
   "execution_count": 14,
   "metadata": {},
   "outputs": [
    {
     "name": "stdout",
     "output_type": "stream",
     "text": [
      "The original string is : GeeksforGeeks is best for Geeks\n",
      "The substring to find : Geeks\n",
      "The start indices of the substrings are : [0, 8, 26]\n"
     ]
    }
   ],
   "source": [
    "\n",
    "test_str = \"GeeksforGeeks is best for Geeks\" \n",
    "test_sub = \"Geeks\"\n",
    "print(\"The original string is : \" + test_str) \n",
    "print(\"The substring to find : \" + test_sub) \n",
    "res = [i for i in range(len(test_str)) if test_str.startswith(test_sub, i)] \n",
    "print(\"The start indices of the substrings are : \" + str(res)) \n"
   ]
  },
  {
   "cell_type": "code",
   "execution_count": 8,
   "metadata": {},
   "outputs": [
    {
     "name": "stdout",
     "output_type": "stream",
     "text": [
      "True\n",
      "True\n",
      "True\n"
     ]
    }
   ],
   "source": [
    "# islower string\n",
    "\n",
    "str_name = \"welcome python user\"\n",
    "print(str_name.islower())   \n",
    "  \n",
    "str_name = \"welcome 2019\"\n",
    "print(str_name.islower())   \n",
    "  \n",
    "str_name = \"welcome @ 2020\"\n",
    "print(str_name.islower())   "
   ]
  },
  {
   "cell_type": "code",
   "execution_count": 4,
   "metadata": {},
   "outputs": [
    {
     "name": "stdout",
     "output_type": "stream",
     "text": [
      "False\n",
      "False\n",
      "False\n"
     ]
    }
   ],
   "source": [
    "str_name = \"WELCOME PYTHON USER\"\n",
    "print(str_name.islower())   \n",
    "  \n",
    "str_name = \"WELCOME 2019\"\n",
    "print(str_name.islower())   \n",
    " \n",
    "str_name = \"WELCOME @ 2020\"\n",
    "print(str_name.islower())   "
   ]
  },
  {
   "cell_type": "code",
   "execution_count": 5,
   "metadata": {},
   "outputs": [
    {
     "name": "stdout",
     "output_type": "stream",
     "text": [
      "False\n",
      "False\n"
     ]
    }
   ],
   "source": [
    "str_name = \"2020\"\n",
    "print(str_name.islower())\n",
    "  \n",
    "str_name = \"@$&\"\n",
    "print(str_name.islower())"
   ]
  },
  {
   "cell_type": "code",
   "execution_count": 6,
   "metadata": {},
   "outputs": [
    {
     "name": "stdout",
     "output_type": "stream",
     "text": [
      "False\n",
      "False\n",
      "False\n",
      "False\n"
     ]
    }
   ],
   "source": [
    "str_name = \"Welcome\"\n",
    "print(str_name.islower())   \n",
    "  \n",
    "str_name = \"Welcome Python User\"\n",
    "print(str_name.islower())   \n",
    "  \n",
    "str_name = \"Welcome 2019\"\n",
    "print(str_name.islower())   \n",
    "  \n",
    "str_name = \"Welcome @ 2020\"\n",
    "print(str_name.islower())   "
   ]
  },
  {
   "cell_type": "code",
   "execution_count": 7,
   "metadata": {},
   "outputs": [
    {
     "name": "stdout",
     "output_type": "stream",
     "text": [
      "False\n"
     ]
    }
   ],
   "source": [
    "str_name = ' '\n",
    "print(str_name.islower())   \n"
   ]
  },
  {
   "cell_type": "code",
   "execution_count": 9,
   "metadata": {},
   "outputs": [
    {
     "name": "stdout",
     "output_type": "stream",
     "text": [
      "True\n",
      "True\n",
      "True\n"
     ]
    }
   ],
   "source": [
    "#isupper string\n",
    "\n",
    "str_name = \"WELCOME PYTHON USER\"\n",
    "print(str_name.isupper())   \n",
    " \n",
    "str_name = \"WELCOME 2019\"\n",
    "print(str_name.isupper())   \n",
    " \n",
    "str_name = \"WELCOME @ 2020\"\n",
    "print(str_name.isupper())   "
   ]
  },
  {
   "cell_type": "code",
   "execution_count": 10,
   "metadata": {},
   "outputs": [
    {
     "name": "stdout",
     "output_type": "stream",
     "text": [
      "False\n",
      "False\n"
     ]
    }
   ],
   "source": [
    "str_name = \"2020\"\n",
    "print(str_name.isupper())   \n",
    " \n",
    "str_name = \"@$&\"\n",
    "print(str_name.isupper())   "
   ]
  },
  {
   "cell_type": "code",
   "execution_count": 11,
   "metadata": {},
   "outputs": [
    {
     "name": "stdout",
     "output_type": "stream",
     "text": [
      "False\n",
      "False\n",
      "False\n"
     ]
    }
   ],
   "source": [
    "str_name = \"welcome python user\"\n",
    "print(str_name.isupper())   \n",
    " \n",
    "str_name = \"welcome 2019\"\n",
    "print(str_name.isupper())   \n",
    " \n",
    "str_name = \"welcome @ 2020\"\n",
    "print(str_name.isupper())   "
   ]
  },
  {
   "cell_type": "code",
   "execution_count": 12,
   "metadata": {},
   "outputs": [
    {
     "name": "stdout",
     "output_type": "stream",
     "text": [
      "False\n",
      "False\n",
      "False\n",
      "False\n"
     ]
    }
   ],
   "source": [
    "str_name = \"Welcome\"\n",
    "print(str_name.isupper())   \n",
    " \n",
    "str_name = \"Welcome Python User\"\n",
    "print(str_name.isupper())   \n",
    " \n",
    "str_name = \"Welcome 2019\"\n",
    "print(str_name.isupper())   \n",
    " \n",
    "str_name = \"Welcome @ 2020\"\n",
    "print(str_name.isupper())   "
   ]
  },
  {
   "cell_type": "code",
   "execution_count": 13,
   "metadata": {},
   "outputs": [
    {
     "name": "stdout",
     "output_type": "stream",
     "text": [
      "False\n"
     ]
    }
   ],
   "source": [
    "str_name = ' '\n",
    "print(str_name.isupper())"
   ]
  },
  {
   "cell_type": "code",
   "execution_count": null,
   "metadata": {},
   "outputs": [],
   "source": []
  }
 ],
 "metadata": {
  "kernelspec": {
   "display_name": "Python 3",
   "language": "python",
   "name": "python3"
  },
  "language_info": {
   "codemirror_mode": {
    "name": "ipython",
    "version": 3
   },
   "file_extension": ".py",
   "mimetype": "text/x-python",
   "name": "python",
   "nbconvert_exporter": "python",
   "pygments_lexer": "ipython3",
   "version": "3.7.6"
  }
 },
 "nbformat": 4,
 "nbformat_minor": 4
}
